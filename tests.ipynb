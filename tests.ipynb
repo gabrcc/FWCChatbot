{
 "cells": [
  {
   "cell_type": "markdown",
   "metadata": {},
   "source": [
    "INSTALLATIONS"
   ]
  },
  {
   "cell_type": "code",
   "execution_count": null,
   "metadata": {},
   "outputs": [],
   "source": [
    "# !pip install langchain\n",
    "# !pip install python-dotenv\n",
    "# !pip install openai\n",
    "# !pip install pypdf\n"
   ]
  },
  {
   "cell_type": "markdown",
   "metadata": {},
   "source": [
    "IMPORTS"
   ]
  },
  {
   "cell_type": "code",
   "execution_count": 2,
   "metadata": {},
   "outputs": [],
   "source": [
    "\n",
    "from langchain.document_loaders import CSVLoader\n",
    "from langchain.document_loaders import DirectoryLoader\n",
    "from langchain.indexes import VectorstoreIndexCreator\n",
    "from langchain.chains import RetrievalQA\n",
    "from langchain.llms import OpenAI\n",
    "from langchain.chat_models import ChatOpenAI\n",
    "from langchain.prompts import ChatPromptTemplate\n",
    "from langchain.output_parsers import ResponseSchema\n",
    "from langchain.output_parsers import StructuredOutputParser\n",
    "from langchain.chains import ConversationChain\n",
    "from langchain.memory import ConversationBufferMemory\n",
    "from langchain.memory import ConversationTokenBufferMemory\n",
    "from langchain.memory import ConversationSummaryBufferMemory\n",
    "import os\n",
    "import openai\n",
    "import sys\n",
    "from dotenv import load_dotenv, find_dotenv\n",
    "# account for deprecation of LLM model\n",
    "import datetime"
   ]
  },
  {
   "cell_type": "markdown",
   "metadata": {},
   "source": [
    "API KEY"
   ]
  },
  {
   "cell_type": "code",
   "execution_count": 3,
   "metadata": {},
   "outputs": [],
   "source": [
    "\n",
    "os.environ[\"OPEN_API_KEY\"] = \"\"\n",
    "_ = load_dotenv(find_dotenv())\n",
    "openai.api_key = os.environ['OPEN_API_KEY']"
   ]
  },
  {
   "cell_type": "markdown",
   "metadata": {},
   "source": [
    "METHOD TO LOAD ONLY ONE PDF"
   ]
  },
  {
   "cell_type": "code",
   "execution_count": 14,
   "metadata": {},
   "outputs": [],
   "source": [
    "#load only one pdf\n",
    "from langchain.document_loaders import PyPDFLoader\n",
    "def LoadPDF(path):\n",
    "    loader = PyPDFLoader(path, glob=\"**/*.pdf\", show_progress=True, loader_cls=PyPDFLoader)\n",
    "    return loader.load()"
   ]
  },
  {
   "cell_type": "markdown",
   "metadata": {},
   "source": [
    "METHOD TO LOAD PDFS FROM A DIRECTORY"
   ]
  },
  {
   "cell_type": "code",
   "execution_count": 15,
   "metadata": {},
   "outputs": [],
   "source": [
    "\n",
    "def LoadPDF(path):\n",
    "    loader = DirectoryLoader(path, glob=\"**/*.pdf\", show_progress=True, loader_cls=PyPDFLoader)\n",
    "    return loader.load()"
   ]
  },
  {
   "cell_type": "markdown",
   "metadata": {},
   "source": [
    "LOAD MY PDFS"
   ]
  },
  {
   "cell_type": "code",
   "execution_count": 21,
   "metadata": {},
   "outputs": [
    {
     "name": "stderr",
     "output_type": "stream",
     "text": [
      "100%|██████████| 14/14 [02:23<00:00, 10.25s/it]\n"
     ]
    }
   ],
   "source": [
    "pdf_directory=\"pdf\"\n",
    "loaded_documents=LoadPDF(pdf_directory)"
   ]
  },
  {
   "cell_type": "markdown",
   "metadata": {},
   "source": [
    "VERIFY ALL PDFS ARE LOADED"
   ]
  },
  {
   "cell_type": "code",
   "execution_count": 26,
   "metadata": {},
   "outputs": [
    {
     "name": "stdout",
     "output_type": "stream",
     "text": [
      "All pdf are loaded successfully.\n"
     ]
    }
   ],
   "source": [
    "from os.path import basename\n",
    "\n",
    "expected_pdf_files = [\n",
    "    \"pdf1\", \"pdf2\", \"pdf3\", \"pdf4\", \"pdf5\", \"pdf6\", \"pdf7\", \"pdf8\", \"pdf9\", \"pdf10\", \"pdf11\", \"pdf12\", \"pdf13\", \"pdf14\"\n",
    "]\n",
    "\n",
    "loaded_pdf_files_base = [basename(document.metadata.get('source')).replace('.pdf', '') for document in loaded_documents]\n",
    "\n",
    "missing_pdf_files = [pdf_file for pdf_file in expected_pdf_files if pdf_file not in loaded_pdf_files_base]\n",
    "\n",
    "if not missing_pdf_files:\n",
    "    print(\"All pdf are loaded successfully.\")\n",
    "else:\n",
    "    print(\"Failed loading:\")\n",
    "    for missing_pdf in missing_pdf_files:\n",
    "        print(f\"{missing_pdf}.pdf\")"
   ]
  },
  {
   "cell_type": "markdown",
   "metadata": {},
   "source": [
    "METHOD TO LOAD ONE CSV"
   ]
  },
  {
   "cell_type": "code",
   "execution_count": 33,
   "metadata": {},
   "outputs": [],
   "source": [
    "def LoadCSV(path):\n",
    "    loader = CSVLoader(file_path=path, encoding=\"utf-8\",csv_args={'delimiter':','})\n",
    "    return loader.load()"
   ]
  },
  {
   "cell_type": "markdown",
   "metadata": {},
   "source": [
    "LOAD ALL MY CSVS directory"
   ]
  },
  {
   "cell_type": "code",
   "execution_count": 29,
   "metadata": {},
   "outputs": [
    {
     "name": "stderr",
     "output_type": "stream",
     "text": [
      "100%|██████████| 41/41 [00:03<00:00, 11.45it/s]\n"
     ]
    }
   ],
   "source": [
    "from tqdm import tqdm\n",
    "\n",
    "csv_directory=\"csv\"\n",
    "csv_data_list = []\n",
    "\n",
    "csv_files = [os.path.join(csv_directory, file) for file in os.listdir(csv_directory) if file.endswith(\".csv\")]\n",
    "\n",
    "for csv_file in tqdm(csv_files):\n",
    "    csv_data = LoadCSV(csv_file)\n",
    "    csv_data_list.append(csv_data)"
   ]
  },
  {
   "cell_type": "markdown",
   "metadata": {},
   "source": [
    "SEARCH FOR ENCODING DIFFERENT THAN UTF-8"
   ]
  },
  {
   "cell_type": "code",
   "execution_count": 31,
   "metadata": {},
   "outputs": [
    {
     "name": "stdout",
     "output_type": "stream",
     "text": [
      "Error in CSV: csv\\FIFA World Cup All Goals 1930-2022.csv\n",
      "Error: 'utf-8' codec can't decode byte 0xe9 in position 814: invalid continuation byte\n"
     ]
    }
   ],
   "source": [
    "\n",
    "def csvLoadertoSearchEnc(path):\n",
    "    try:\n",
    "        loader = CSVLoader(file_path=path, encoding=\"utf-8\", csv_args={'delimiter': ','})\n",
    "        return loader.load()\n",
    "    except UnicodeDecodeError as e:\n",
    "        print(f\"Error in CSV: {path}\")\n",
    "        print(f\"Error: {str(e)}\")\n",
    "        return None  \n",
    "\n",
    "csv_directory = \"csv\"\n",
    "csv_data_list = []\n",
    "\n",
    "csv_files = [os.path.join(csv_directory, file) for file in os.listdir(csv_directory) if file.endswith(\".csv\")]\n",
    "\n",
    "for csv_file in csv_files:\n",
    "    csv_data = csvLoadertoSearchEnc(csv_file)\n",
    "    if csv_data is not None:\n",
    "        csv_data_list.append(csv_data)\n",
    "\n",
    "\n"
   ]
  },
  {
   "cell_type": "code",
   "execution_count": null,
   "metadata": {},
   "outputs": [],
   "source": [
    "#Repare enconding windows1252\n",
    "import csv\n",
    "\n",
    "\n",
    "input_csv_file = \"FIFA World Cup All Goals 1930-2022.csv\"\n",
    "\n",
    "\n",
    "output_csv_file = \"FIFA World Cup All Goals 1930-2022_corregido.csv\"\n",
    "\n",
    "with open(input_csv_file, 'r', encoding='utf-8') as input_file, open(output_csv_file, 'w', newline='', encoding='utf-8') as output_file:\n",
    "    csv_reader = csv.reader(input_file)\n",
    "    csv_writer = csv.writer(output_file)\n",
    "\n",
    "    for row in csv_reader:\n",
    "        corrected_row = [field.replace(',', '\\\\,') if ',' in field else field for field in row]\n",
    "\n",
    "        csv_writer.writerow(corrected_row)\n",
    "\n",
    "print(\"CSV reencoded.\")\n"
   ]
  },
  {
   "cell_type": "markdown",
   "metadata": {},
   "source": [
    "LOAD Directory inside another directory"
   ]
  },
  {
   "cell_type": "code",
   "execution_count": null,
   "metadata": {},
   "outputs": [],
   "source": [
    "\n",
    "def load_csv_files_in_directory(directory_path):\n",
    "    csv_data_list = []\n",
    "    \n",
    "    # Go through all general directory\n",
    "    for root, dirs, files in os.walk(directory_path):\n",
    "        for file in files:\n",
    "            if file.endswith(\".csv\"):\n",
    "                csv_file_path = os.path.join(root, file)\n",
    "                print(f\"Loading {csv_file_path}...\")\n",
    "                \n",
    "                # Carga el archivo CSV utilizando CSVLoader\n",
    "                csv_data = LoadCSV(csv_file_path)\n",
    "                csv_data_list.append(csv_data)\n",
    "    \n",
    "    return csv_data_list\n",
    "\n",
    "general_directory = \"fifa_wc_2018\"\n",
    "\n",
    "# Load CSV from the subdirectories \n",
    "load_csv_files_in_directory(general_directory)\n",
    "\n",
    "\n"
   ]
  }
 ],
 "metadata": {
  "kernelspec": {
   "display_name": "Python 3",
   "language": "python",
   "name": "python3"
  },
  "language_info": {
   "codemirror_mode": {
    "name": "ipython",
    "version": 3
   },
   "file_extension": ".py",
   "mimetype": "text/x-python",
   "name": "python",
   "nbconvert_exporter": "python",
   "pygments_lexer": "ipython3",
   "version": "3.10.11"
  },
  "orig_nbformat": 4
 },
 "nbformat": 4,
 "nbformat_minor": 2
}
